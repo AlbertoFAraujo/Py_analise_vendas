{
 "cells": [
  {
   "cell_type": "code",
   "execution_count": 907,
   "id": "a5829665",
   "metadata": {},
   "outputs": [],
   "source": [
    "# Importação das bibliotecas necessárias\n",
    "import pandas as pd\n",
    "import matplotlib.pyplot as plt\n",
    "import seaborn as sns"
   ]
  },
  {
   "cell_type": "code",
   "execution_count": 908,
   "id": "0119a232",
   "metadata": {},
   "outputs": [],
   "source": [
    "# Importando os dataset\n",
    "df1 = pd.read_excel('datasets/Aracaju.xlsx')\n",
    "df2 = pd.read_excel('datasets/Fortaleza.xlsx')\n",
    "df3 = pd.read_excel('datasets/Natal.xlsx')\n",
    "df4 = pd.read_excel('datasets/Recife.xlsx')\n",
    "df5 = pd.read_excel('datasets/Salvador.xlsx')"
   ]
  },
  {
   "cell_type": "code",
   "execution_count": 909,
   "id": "cf30f8cc",
   "metadata": {},
   "outputs": [
    {
     "data": {
      "text/html": [
       "<div>\n",
       "<style scoped>\n",
       "    .dataframe tbody tr th:only-of-type {\n",
       "        vertical-align: middle;\n",
       "    }\n",
       "\n",
       "    .dataframe tbody tr th {\n",
       "        vertical-align: top;\n",
       "    }\n",
       "\n",
       "    .dataframe thead th {\n",
       "        text-align: right;\n",
       "    }\n",
       "</style>\n",
       "<table border=\"1\" class=\"dataframe\">\n",
       "  <thead>\n",
       "    <tr style=\"text-align: right;\">\n",
       "      <th></th>\n",
       "      <th>Cidade</th>\n",
       "      <th>Data</th>\n",
       "      <th>Vendas</th>\n",
       "      <th>LojaID</th>\n",
       "      <th>Qtde</th>\n",
       "    </tr>\n",
       "  </thead>\n",
       "  <tbody>\n",
       "    <tr>\n",
       "      <th>0</th>\n",
       "      <td>Aracaju</td>\n",
       "      <td>2018-01-01</td>\n",
       "      <td>142.00</td>\n",
       "      <td>1520</td>\n",
       "      <td>1</td>\n",
       "    </tr>\n",
       "    <tr>\n",
       "      <th>1</th>\n",
       "      <td>Aracaju</td>\n",
       "      <td>2018-01-01</td>\n",
       "      <td>14.21</td>\n",
       "      <td>1522</td>\n",
       "      <td>6</td>\n",
       "    </tr>\n",
       "    <tr>\n",
       "      <th>2</th>\n",
       "      <td>Aracaju</td>\n",
       "      <td>2018-01-01</td>\n",
       "      <td>71.55</td>\n",
       "      <td>1520</td>\n",
       "      <td>1</td>\n",
       "    </tr>\n",
       "    <tr>\n",
       "      <th>3</th>\n",
       "      <td>Aracaju</td>\n",
       "      <td>2018-01-01</td>\n",
       "      <td>3.01</td>\n",
       "      <td>1521</td>\n",
       "      <td>7</td>\n",
       "    </tr>\n",
       "    <tr>\n",
       "      <th>4</th>\n",
       "      <td>Aracaju</td>\n",
       "      <td>2018-01-01</td>\n",
       "      <td>24.51</td>\n",
       "      <td>1522</td>\n",
       "      <td>8</td>\n",
       "    </tr>\n",
       "    <tr>\n",
       "      <th>...</th>\n",
       "      <td>...</td>\n",
       "      <td>...</td>\n",
       "      <td>...</td>\n",
       "      <td>...</td>\n",
       "      <td>...</td>\n",
       "    </tr>\n",
       "    <tr>\n",
       "      <th>235</th>\n",
       "      <td>Salvador</td>\n",
       "      <td>2019-01-03</td>\n",
       "      <td>41.84</td>\n",
       "      <td>1034</td>\n",
       "      <td>1</td>\n",
       "    </tr>\n",
       "    <tr>\n",
       "      <th>236</th>\n",
       "      <td>Salvador</td>\n",
       "      <td>2019-01-03</td>\n",
       "      <td>126.29</td>\n",
       "      <td>1035</td>\n",
       "      <td>3</td>\n",
       "    </tr>\n",
       "    <tr>\n",
       "      <th>237</th>\n",
       "      <td>Salvador</td>\n",
       "      <td>2019-01-03</td>\n",
       "      <td>38.06</td>\n",
       "      <td>1036</td>\n",
       "      <td>3</td>\n",
       "    </tr>\n",
       "    <tr>\n",
       "      <th>238</th>\n",
       "      <td>Salvador</td>\n",
       "      <td>2019-01-03</td>\n",
       "      <td>139.64</td>\n",
       "      <td>1035</td>\n",
       "      <td>1</td>\n",
       "    </tr>\n",
       "    <tr>\n",
       "      <th>239</th>\n",
       "      <td>Salvador</td>\n",
       "      <td>2019-01-03</td>\n",
       "      <td>161.41</td>\n",
       "      <td>1037</td>\n",
       "      <td>3</td>\n",
       "    </tr>\n",
       "  </tbody>\n",
       "</table>\n",
       "<p>894 rows × 5 columns</p>\n",
       "</div>"
      ],
      "text/plain": [
       "       Cidade       Data  Vendas  LojaID  Qtde\n",
       "0     Aracaju 2018-01-01  142.00    1520     1\n",
       "1     Aracaju 2018-01-01   14.21    1522     6\n",
       "2     Aracaju 2018-01-01   71.55    1520     1\n",
       "3     Aracaju 2018-01-01    3.01    1521     7\n",
       "4     Aracaju 2018-01-01   24.51    1522     8\n",
       "..        ...        ...     ...     ...   ...\n",
       "235  Salvador 2019-01-03   41.84    1034     1\n",
       "236  Salvador 2019-01-03  126.29    1035     3\n",
       "237  Salvador 2019-01-03   38.06    1036     3\n",
       "238  Salvador 2019-01-03  139.64    1035     1\n",
       "239  Salvador 2019-01-03  161.41    1037     3\n",
       "\n",
       "[894 rows x 5 columns]"
      ]
     },
     "metadata": {},
     "output_type": "display_data"
    }
   ],
   "source": [
    "# Realizando a integração dos arquivos\n",
    "df = pd.concat([df1,df2,df3,df4,df5])\n",
    "display(df)"
   ]
  },
  {
   "cell_type": "code",
   "execution_count": 910,
   "id": "e1d71ee2",
   "metadata": {},
   "outputs": [
    {
     "data": {
      "text/plain": [
       "(894, 5)"
      ]
     },
     "execution_count": 910,
     "metadata": {},
     "output_type": "execute_result"
    }
   ],
   "source": [
    "# Verificando as dimensões da tabela\n",
    "df.shape"
   ]
  },
  {
   "cell_type": "code",
   "execution_count": 911,
   "id": "19539436",
   "metadata": {},
   "outputs": [
    {
     "data": {
      "text/plain": [
       "Cidade            object\n",
       "Data      datetime64[ns]\n",
       "Vendas           float64\n",
       "LojaID             int64\n",
       "Qtde               int64\n",
       "dtype: object"
      ]
     },
     "execution_count": 911,
     "metadata": {},
     "output_type": "execute_result"
    }
   ],
   "source": [
    "# Verificando os tipos de dados\n",
    "df.dtypes"
   ]
  },
  {
   "cell_type": "code",
   "execution_count": 912,
   "id": "0828ea93",
   "metadata": {},
   "outputs": [
    {
     "data": {
      "text/plain": [
       "Cidade            object\n",
       "Data      datetime64[ns]\n",
       "Vendas           float64\n",
       "LojaID            object\n",
       "Qtde               int64\n",
       "dtype: object"
      ]
     },
     "execution_count": 912,
     "metadata": {},
     "output_type": "execute_result"
    }
   ],
   "source": [
    "# Alterando o tipo de dado da variável \"LojaID\", visto que trata-se de um ID e não será utilizado em \n",
    "# cálculos.\n",
    "df['LojaID'] = df['LojaID'].astype('object')\n",
    "df.dtypes"
   ]
  },
  {
   "cell_type": "code",
   "execution_count": 913,
   "id": "f9bc8cf0",
   "metadata": {},
   "outputs": [],
   "source": [
    "# Criando a coluna de Receita\n",
    "df['Receita'] = df['Vendas'] * df['Qtde']"
   ]
  },
  {
   "cell_type": "code",
   "execution_count": 914,
   "id": "715a7491",
   "metadata": {},
   "outputs": [
    {
     "data": {
      "text/html": [
       "<div>\n",
       "<style scoped>\n",
       "    .dataframe tbody tr th:only-of-type {\n",
       "        vertical-align: middle;\n",
       "    }\n",
       "\n",
       "    .dataframe tbody tr th {\n",
       "        vertical-align: top;\n",
       "    }\n",
       "\n",
       "    .dataframe thead th {\n",
       "        text-align: right;\n",
       "    }\n",
       "</style>\n",
       "<table border=\"1\" class=\"dataframe\">\n",
       "  <thead>\n",
       "    <tr style=\"text-align: right;\">\n",
       "      <th></th>\n",
       "      <th>Cidade</th>\n",
       "      <th>Data</th>\n",
       "      <th>Vendas</th>\n",
       "      <th>LojaID</th>\n",
       "      <th>Qtde</th>\n",
       "      <th>Receita</th>\n",
       "    </tr>\n",
       "  </thead>\n",
       "  <tbody>\n",
       "    <tr>\n",
       "      <th>239</th>\n",
       "      <td>Natal</td>\n",
       "      <td>2019-01-03</td>\n",
       "      <td>161.41</td>\n",
       "      <td>1037</td>\n",
       "      <td>3</td>\n",
       "      <td>484.23</td>\n",
       "    </tr>\n",
       "    <tr>\n",
       "      <th>128</th>\n",
       "      <td>Fortaleza</td>\n",
       "      <td>2019-03-02</td>\n",
       "      <td>38.70</td>\n",
       "      <td>982</td>\n",
       "      <td>4</td>\n",
       "      <td>154.80</td>\n",
       "    </tr>\n",
       "    <tr>\n",
       "      <th>194</th>\n",
       "      <td>Salvador</td>\n",
       "      <td>2019-01-02</td>\n",
       "      <td>156.47</td>\n",
       "      <td>1035</td>\n",
       "      <td>1</td>\n",
       "      <td>156.47</td>\n",
       "    </tr>\n",
       "    <tr>\n",
       "      <th>58</th>\n",
       "      <td>Salvador</td>\n",
       "      <td>2019-01-01</td>\n",
       "      <td>20.64</td>\n",
       "      <td>1037</td>\n",
       "      <td>2</td>\n",
       "      <td>41.28</td>\n",
       "    </tr>\n",
       "    <tr>\n",
       "      <th>9</th>\n",
       "      <td>Aracaju</td>\n",
       "      <td>2019-01-01</td>\n",
       "      <td>149.36</td>\n",
       "      <td>1523</td>\n",
       "      <td>3</td>\n",
       "      <td>448.08</td>\n",
       "    </tr>\n",
       "  </tbody>\n",
       "</table>\n",
       "</div>"
      ],
      "text/plain": [
       "        Cidade       Data  Vendas LojaID  Qtde  Receita\n",
       "239      Natal 2019-01-03  161.41   1037     3   484.23\n",
       "128  Fortaleza 2019-03-02   38.70    982     4   154.80\n",
       "194   Salvador 2019-01-02  156.47   1035     1   156.47\n",
       "58    Salvador 2019-01-01   20.64   1037     2    41.28\n",
       "9      Aracaju 2019-01-01  149.36   1523     3   448.08"
      ]
     },
     "execution_count": 914,
     "metadata": {},
     "output_type": "execute_result"
    }
   ],
   "source": [
    "# Verificando os dados com uma amostra aleatória\n",
    "df.sample(5)"
   ]
  },
  {
   "cell_type": "code",
   "execution_count": 915,
   "id": "114cb1d9",
   "metadata": {},
   "outputs": [
    {
     "data": {
      "text/plain": [
       "Cidade     0\n",
       "Data       0\n",
       "Vendas     0\n",
       "LojaID     0\n",
       "Qtde       0\n",
       "Receita    0\n",
       "dtype: int64"
      ]
     },
     "metadata": {},
     "output_type": "display_data"
    },
    {
     "data": {
      "text/plain": [
       "Cidade     0\n",
       "Data       0\n",
       "Vendas     0\n",
       "LojaID     0\n",
       "Qtde       0\n",
       "Receita    0\n",
       "dtype: int64"
      ]
     },
     "metadata": {},
     "output_type": "display_data"
    }
   ],
   "source": [
    "# Verificação de observações vazias\n",
    "display(df.isnull().sum(),df.isna().sum())"
   ]
  },
  {
   "cell_type": "markdown",
   "id": "8cdcc792",
   "metadata": {},
   "source": [
    "### Análise de Insights\n",
    "\n",
    "Nesta seção será gerado os insights para a exploração das variáveis do dataset."
   ]
  },
  {
   "cell_type": "code",
   "execution_count": 916,
   "id": "26eff146",
   "metadata": {},
   "outputs": [
    {
     "data": {
      "text/html": [
       "<div>\n",
       "<style scoped>\n",
       "    .dataframe tbody tr th:only-of-type {\n",
       "        vertical-align: middle;\n",
       "    }\n",
       "\n",
       "    .dataframe tbody tr th {\n",
       "        vertical-align: top;\n",
       "    }\n",
       "\n",
       "    .dataframe thead th {\n",
       "        text-align: right;\n",
       "    }\n",
       "</style>\n",
       "<table border=\"1\" class=\"dataframe\">\n",
       "  <thead>\n",
       "    <tr style=\"text-align: right;\">\n",
       "      <th></th>\n",
       "      <th>Vendas</th>\n",
       "      <th>Qtde</th>\n",
       "      <th>Receita</th>\n",
       "    </tr>\n",
       "  </thead>\n",
       "  <tbody>\n",
       "    <tr>\n",
       "      <th>count</th>\n",
       "      <td>894.00</td>\n",
       "      <td>894.00</td>\n",
       "      <td>894.00</td>\n",
       "    </tr>\n",
       "    <tr>\n",
       "      <th>mean</th>\n",
       "      <td>122.61</td>\n",
       "      <td>3.26</td>\n",
       "      <td>387.50</td>\n",
       "    </tr>\n",
       "    <tr>\n",
       "      <th>std</th>\n",
       "      <td>166.82</td>\n",
       "      <td>2.10</td>\n",
       "      <td>575.52</td>\n",
       "    </tr>\n",
       "    <tr>\n",
       "      <th>min</th>\n",
       "      <td>3.01</td>\n",
       "      <td>1.00</td>\n",
       "      <td>3.34</td>\n",
       "    </tr>\n",
       "    <tr>\n",
       "      <th>25%</th>\n",
       "      <td>22.38</td>\n",
       "      <td>2.00</td>\n",
       "      <td>63.54</td>\n",
       "    </tr>\n",
       "    <tr>\n",
       "      <th>50%</th>\n",
       "      <td>44.00</td>\n",
       "      <td>3.00</td>\n",
       "      <td>155.56</td>\n",
       "    </tr>\n",
       "    <tr>\n",
       "      <th>75%</th>\n",
       "      <td>160.93</td>\n",
       "      <td>4.00</td>\n",
       "      <td>458.31</td>\n",
       "    </tr>\n",
       "    <tr>\n",
       "      <th>max</th>\n",
       "      <td>886.00</td>\n",
       "      <td>10.00</td>\n",
       "      <td>3544.00</td>\n",
       "    </tr>\n",
       "  </tbody>\n",
       "</table>\n",
       "</div>"
      ],
      "text/plain": [
       "       Vendas    Qtde  Receita\n",
       "count  894.00  894.00   894.00\n",
       "mean   122.61    3.26   387.50\n",
       "std    166.82    2.10   575.52\n",
       "min      3.01    1.00     3.34\n",
       "25%     22.38    2.00    63.54\n",
       "50%     44.00    3.00   155.56\n",
       "75%    160.93    4.00   458.31\n",
       "max    886.00   10.00  3544.00"
      ]
     },
     "execution_count": 916,
     "metadata": {},
     "output_type": "execute_result"
    }
   ],
   "source": [
    "# Verificação das estatísticas básicas do df\n",
    "round(df.describe(),ndigits=2)"
   ]
  },
  {
   "cell_type": "code",
   "execution_count": 917,
   "id": "d692ec41",
   "metadata": {},
   "outputs": [
    {
     "data": {
      "text/html": [
       "<div>\n",
       "<style scoped>\n",
       "    .dataframe tbody tr th:only-of-type {\n",
       "        vertical-align: middle;\n",
       "    }\n",
       "\n",
       "    .dataframe tbody tr th {\n",
       "        vertical-align: top;\n",
       "    }\n",
       "\n",
       "    .dataframe thead th {\n",
       "        text-align: right;\n",
       "    }\n",
       "</style>\n",
       "<table border=\"1\" class=\"dataframe\">\n",
       "  <thead>\n",
       "    <tr style=\"text-align: right;\">\n",
       "      <th></th>\n",
       "      <th>Cidade</th>\n",
       "      <th>Vendas</th>\n",
       "    </tr>\n",
       "  </thead>\n",
       "  <tbody>\n",
       "    <tr>\n",
       "      <th>7</th>\n",
       "      <td>Natal</td>\n",
       "      <td>886.0</td>\n",
       "    </tr>\n",
       "    <tr>\n",
       "      <th>40</th>\n",
       "      <td>Natal</td>\n",
       "      <td>885.0</td>\n",
       "    </tr>\n",
       "    <tr>\n",
       "      <th>24</th>\n",
       "      <td>Natal</td>\n",
       "      <td>868.0</td>\n",
       "    </tr>\n",
       "    <tr>\n",
       "      <th>82</th>\n",
       "      <td>Natal</td>\n",
       "      <td>868.0</td>\n",
       "    </tr>\n",
       "    <tr>\n",
       "      <th>51</th>\n",
       "      <td>Natal</td>\n",
       "      <td>859.0</td>\n",
       "    </tr>\n",
       "  </tbody>\n",
       "</table>\n",
       "</div>"
      ],
      "text/plain": [
       "   Cidade  Vendas\n",
       "7   Natal   886.0\n",
       "40  Natal   885.0\n",
       "24  Natal   868.0\n",
       "82  Natal   868.0\n",
       "51  Natal   859.0"
      ]
     },
     "execution_count": 917,
     "metadata": {},
     "output_type": "execute_result"
    }
   ],
   "source": [
    "# Ranking de maiores vendas\n",
    "df[['Cidade','Vendas']].nlargest(5,'Vendas')"
   ]
  },
  {
   "cell_type": "code",
   "execution_count": 918,
   "id": "1973efb3",
   "metadata": {},
   "outputs": [
    {
     "data": {
      "text/html": [
       "<div>\n",
       "<style scoped>\n",
       "    .dataframe tbody tr th:only-of-type {\n",
       "        vertical-align: middle;\n",
       "    }\n",
       "\n",
       "    .dataframe tbody tr th {\n",
       "        vertical-align: top;\n",
       "    }\n",
       "\n",
       "    .dataframe thead th {\n",
       "        text-align: right;\n",
       "    }\n",
       "</style>\n",
       "<table border=\"1\" class=\"dataframe\">\n",
       "  <thead>\n",
       "    <tr style=\"text-align: right;\">\n",
       "      <th></th>\n",
       "      <th>Cidade</th>\n",
       "      <th>Vendas</th>\n",
       "    </tr>\n",
       "  </thead>\n",
       "  <tbody>\n",
       "    <tr>\n",
       "      <th>3</th>\n",
       "      <td>Aracaju</td>\n",
       "      <td>3.01</td>\n",
       "    </tr>\n",
       "    <tr>\n",
       "      <th>34</th>\n",
       "      <td>Fortaleza</td>\n",
       "      <td>3.10</td>\n",
       "    </tr>\n",
       "    <tr>\n",
       "      <th>73</th>\n",
       "      <td>Fortaleza</td>\n",
       "      <td>3.10</td>\n",
       "    </tr>\n",
       "    <tr>\n",
       "      <th>118</th>\n",
       "      <td>Aracaju</td>\n",
       "      <td>3.34</td>\n",
       "    </tr>\n",
       "    <tr>\n",
       "      <th>27</th>\n",
       "      <td>Aracaju</td>\n",
       "      <td>3.39</td>\n",
       "    </tr>\n",
       "  </tbody>\n",
       "</table>\n",
       "</div>"
      ],
      "text/plain": [
       "        Cidade  Vendas\n",
       "3      Aracaju    3.01\n",
       "34   Fortaleza    3.10\n",
       "73   Fortaleza    3.10\n",
       "118    Aracaju    3.34\n",
       "27     Aracaju    3.39"
      ]
     },
     "execution_count": 918,
     "metadata": {},
     "output_type": "execute_result"
    }
   ],
   "source": [
    "# Ranking de piores vendas\n",
    "df[['Cidade','Vendas']].nsmallest(5,'Vendas')"
   ]
  },
  {
   "cell_type": "code",
   "execution_count": 919,
   "id": "92bbdb1f",
   "metadata": {},
   "outputs": [
    {
     "data": {
      "text/plain": [
       "Cidade\n",
       "Natal        59187.76\n",
       "Salvador     19714.40\n",
       "Recife       11119.10\n",
       "Fortaleza    10120.71\n",
       "Aracaju       9472.98\n",
       "Name: Vendas, dtype: float64"
      ]
     },
     "execution_count": 919,
     "metadata": {},
     "output_type": "execute_result"
    }
   ],
   "source": [
    "# Ranking de vendas por cidade\n",
    "df.groupby('Cidade')['Vendas'].sum().sort_values(ascending=False)"
   ]
  },
  {
   "cell_type": "code",
   "execution_count": 920,
   "id": "d5140ef0",
   "metadata": {},
   "outputs": [
    {
     "data": {
      "text/plain": [
       "Cidade\n",
       "Natal        696.78\n",
       "Aracaju      374.99\n",
       "Recife       365.75\n",
       "Fortaleza    267.00\n",
       "Salvador     169.15\n",
       "Name: Receita, dtype: float64"
      ]
     },
     "execution_count": 920,
     "metadata": {},
     "output_type": "execute_result"
    }
   ],
   "source": [
    "# Ranking de Receita média por cidade\n",
    "round(df.groupby('Cidade')['Receita'].mean().sort_values(ascending=False),ndigits=2)"
   ]
  },
  {
   "cell_type": "code",
   "execution_count": 921,
   "id": "3d134ed6",
   "metadata": {},
   "outputs": [
    {
     "data": {
      "text/plain": [
       "Data\n",
       "2019    78158.28\n",
       "2018    31456.67\n",
       "Name: Vendas, dtype: float64"
      ]
     },
     "execution_count": 921,
     "metadata": {},
     "output_type": "execute_result"
    }
   ],
   "source": [
    "# Ano com maior Vendas\n",
    "df.groupby(df['Data'].dt.year)['Vendas'].sum().sort_values(ascending=False)"
   ]
  },
  {
   "cell_type": "code",
   "execution_count": 922,
   "id": "4599af6e",
   "metadata": {},
   "outputs": [
    {
     "data": {
      "text/plain": [
       "Data\n",
       "2019    228246.45\n",
       "2018    118176.53\n",
       "Name: Receita, dtype: float64"
      ]
     },
     "execution_count": 922,
     "metadata": {},
     "output_type": "execute_result"
    }
   ],
   "source": [
    "# Ano com Maior Receita\n",
    "df.groupby(df['Data'].dt.year)['Receita'].sum().sort_values(ascending=False)"
   ]
  },
  {
   "cell_type": "code",
   "execution_count": 923,
   "id": "b7495eae",
   "metadata": {},
   "outputs": [],
   "source": [
    "# Criando nova coluna para ano, mes, dia\n",
    "df['Ano'] = df['Data'].dt.year\n",
    "df['Mês'] = df['Data'].dt.month\n",
    "df['Dia'] = df['Data'].dt.day"
   ]
  },
  {
   "cell_type": "code",
   "execution_count": 924,
   "id": "d5fd5961",
   "metadata": {},
   "outputs": [
    {
     "data": {
      "text/html": [
       "<div>\n",
       "<style scoped>\n",
       "    .dataframe tbody tr th:only-of-type {\n",
       "        vertical-align: middle;\n",
       "    }\n",
       "\n",
       "    .dataframe tbody tr th {\n",
       "        vertical-align: top;\n",
       "    }\n",
       "\n",
       "    .dataframe thead th {\n",
       "        text-align: right;\n",
       "    }\n",
       "</style>\n",
       "<table border=\"1\" class=\"dataframe\">\n",
       "  <thead>\n",
       "    <tr style=\"text-align: right;\">\n",
       "      <th></th>\n",
       "      <th>Cidade</th>\n",
       "      <th>Data</th>\n",
       "      <th>Vendas</th>\n",
       "      <th>LojaID</th>\n",
       "      <th>Qtde</th>\n",
       "      <th>Receita</th>\n",
       "      <th>Ano</th>\n",
       "      <th>Mês</th>\n",
       "      <th>Dia</th>\n",
       "    </tr>\n",
       "  </thead>\n",
       "  <tbody>\n",
       "    <tr>\n",
       "      <th>117</th>\n",
       "      <td>Salvador</td>\n",
       "      <td>2019-03-02</td>\n",
       "      <td>39.41</td>\n",
       "      <td>1034</td>\n",
       "      <td>1</td>\n",
       "      <td>39.41</td>\n",
       "      <td>2019</td>\n",
       "      <td>3</td>\n",
       "      <td>2</td>\n",
       "    </tr>\n",
       "    <tr>\n",
       "      <th>59</th>\n",
       "      <td>Salvador</td>\n",
       "      <td>2019-01-01</td>\n",
       "      <td>138.27</td>\n",
       "      <td>1034</td>\n",
       "      <td>2</td>\n",
       "      <td>276.54</td>\n",
       "      <td>2019</td>\n",
       "      <td>1</td>\n",
       "      <td>1</td>\n",
       "    </tr>\n",
       "    <tr>\n",
       "      <th>0</th>\n",
       "      <td>Recife</td>\n",
       "      <td>2019-01-01</td>\n",
       "      <td>162.61</td>\n",
       "      <td>981</td>\n",
       "      <td>1</td>\n",
       "      <td>162.61</td>\n",
       "      <td>2019</td>\n",
       "      <td>1</td>\n",
       "      <td>1</td>\n",
       "    </tr>\n",
       "    <tr>\n",
       "      <th>80</th>\n",
       "      <td>Aracaju</td>\n",
       "      <td>2018-01-01</td>\n",
       "      <td>121.77</td>\n",
       "      <td>1523</td>\n",
       "      <td>3</td>\n",
       "      <td>365.31</td>\n",
       "      <td>2018</td>\n",
       "      <td>1</td>\n",
       "      <td>1</td>\n",
       "    </tr>\n",
       "    <tr>\n",
       "      <th>1</th>\n",
       "      <td>Aracaju</td>\n",
       "      <td>2018-01-01</td>\n",
       "      <td>14.21</td>\n",
       "      <td>1522</td>\n",
       "      <td>6</td>\n",
       "      <td>85.26</td>\n",
       "      <td>2018</td>\n",
       "      <td>1</td>\n",
       "      <td>1</td>\n",
       "    </tr>\n",
       "  </tbody>\n",
       "</table>\n",
       "</div>"
      ],
      "text/plain": [
       "       Cidade       Data  Vendas LojaID  Qtde  Receita   Ano  Mês  Dia\n",
       "117  Salvador 2019-03-02   39.41   1034     1    39.41  2019    3    2\n",
       "59   Salvador 2019-01-01  138.27   1034     2   276.54  2019    1    1\n",
       "0      Recife 2019-01-01  162.61    981     1   162.61  2019    1    1\n",
       "80    Aracaju 2018-01-01  121.77   1523     3   365.31  2018    1    1\n",
       "1     Aracaju 2018-01-01   14.21   1522     6    85.26  2018    1    1"
      ]
     },
     "execution_count": 924,
     "metadata": {},
     "output_type": "execute_result"
    }
   ],
   "source": [
    "# Amostra para verificação de dados\n",
    "df.sample(5)"
   ]
  },
  {
   "cell_type": "code",
   "execution_count": 925,
   "id": "c9d1fbe4",
   "metadata": {},
   "outputs": [],
   "source": [
    "import calendar\n",
    "import locale"
   ]
  },
  {
   "cell_type": "code",
   "execution_count": 926,
   "id": "023b8aa6",
   "metadata": {},
   "outputs": [],
   "source": [
    "# Criando uma coluna com o nome dos meses\n",
    "locale.setlocale(locale.LC_TIME, 'pt_BR.utf8')\n",
    "df['Mês_nome'] = df['Mês'].apply(lambda x: calendar.month_name[x])"
   ]
  },
  {
   "cell_type": "code",
   "execution_count": 927,
   "id": "52f0b878",
   "metadata": {},
   "outputs": [
    {
     "data": {
      "text/html": [
       "<div>\n",
       "<style scoped>\n",
       "    .dataframe tbody tr th:only-of-type {\n",
       "        vertical-align: middle;\n",
       "    }\n",
       "\n",
       "    .dataframe tbody tr th {\n",
       "        vertical-align: top;\n",
       "    }\n",
       "\n",
       "    .dataframe thead th {\n",
       "        text-align: right;\n",
       "    }\n",
       "</style>\n",
       "<table border=\"1\" class=\"dataframe\">\n",
       "  <thead>\n",
       "    <tr style=\"text-align: right;\">\n",
       "      <th></th>\n",
       "      <th>Cidade</th>\n",
       "      <th>Data</th>\n",
       "      <th>Vendas</th>\n",
       "      <th>LojaID</th>\n",
       "      <th>Qtde</th>\n",
       "      <th>Receita</th>\n",
       "      <th>Ano</th>\n",
       "      <th>Mês</th>\n",
       "      <th>Dia</th>\n",
       "      <th>Mês_nome</th>\n",
       "    </tr>\n",
       "  </thead>\n",
       "  <tbody>\n",
       "    <tr>\n",
       "      <th>0</th>\n",
       "      <td>Aracaju</td>\n",
       "      <td>2018-01-01</td>\n",
       "      <td>142.00</td>\n",
       "      <td>1520</td>\n",
       "      <td>1</td>\n",
       "      <td>142.00</td>\n",
       "      <td>2018</td>\n",
       "      <td>1</td>\n",
       "      <td>1</td>\n",
       "      <td>janeiro</td>\n",
       "    </tr>\n",
       "    <tr>\n",
       "      <th>1</th>\n",
       "      <td>Aracaju</td>\n",
       "      <td>2018-01-01</td>\n",
       "      <td>14.21</td>\n",
       "      <td>1522</td>\n",
       "      <td>6</td>\n",
       "      <td>85.26</td>\n",
       "      <td>2018</td>\n",
       "      <td>1</td>\n",
       "      <td>1</td>\n",
       "      <td>janeiro</td>\n",
       "    </tr>\n",
       "    <tr>\n",
       "      <th>2</th>\n",
       "      <td>Aracaju</td>\n",
       "      <td>2018-01-01</td>\n",
       "      <td>71.55</td>\n",
       "      <td>1520</td>\n",
       "      <td>1</td>\n",
       "      <td>71.55</td>\n",
       "      <td>2018</td>\n",
       "      <td>1</td>\n",
       "      <td>1</td>\n",
       "      <td>janeiro</td>\n",
       "    </tr>\n",
       "    <tr>\n",
       "      <th>3</th>\n",
       "      <td>Aracaju</td>\n",
       "      <td>2018-01-01</td>\n",
       "      <td>3.01</td>\n",
       "      <td>1521</td>\n",
       "      <td>7</td>\n",
       "      <td>21.07</td>\n",
       "      <td>2018</td>\n",
       "      <td>1</td>\n",
       "      <td>1</td>\n",
       "      <td>janeiro</td>\n",
       "    </tr>\n",
       "    <tr>\n",
       "      <th>4</th>\n",
       "      <td>Aracaju</td>\n",
       "      <td>2018-01-01</td>\n",
       "      <td>24.51</td>\n",
       "      <td>1522</td>\n",
       "      <td>8</td>\n",
       "      <td>196.08</td>\n",
       "      <td>2018</td>\n",
       "      <td>1</td>\n",
       "      <td>1</td>\n",
       "      <td>janeiro</td>\n",
       "    </tr>\n",
       "    <tr>\n",
       "      <th>...</th>\n",
       "      <td>...</td>\n",
       "      <td>...</td>\n",
       "      <td>...</td>\n",
       "      <td>...</td>\n",
       "      <td>...</td>\n",
       "      <td>...</td>\n",
       "      <td>...</td>\n",
       "      <td>...</td>\n",
       "      <td>...</td>\n",
       "      <td>...</td>\n",
       "    </tr>\n",
       "    <tr>\n",
       "      <th>235</th>\n",
       "      <td>Salvador</td>\n",
       "      <td>2019-01-03</td>\n",
       "      <td>41.84</td>\n",
       "      <td>1034</td>\n",
       "      <td>1</td>\n",
       "      <td>41.84</td>\n",
       "      <td>2019</td>\n",
       "      <td>1</td>\n",
       "      <td>3</td>\n",
       "      <td>janeiro</td>\n",
       "    </tr>\n",
       "    <tr>\n",
       "      <th>236</th>\n",
       "      <td>Salvador</td>\n",
       "      <td>2019-01-03</td>\n",
       "      <td>126.29</td>\n",
       "      <td>1035</td>\n",
       "      <td>3</td>\n",
       "      <td>378.87</td>\n",
       "      <td>2019</td>\n",
       "      <td>1</td>\n",
       "      <td>3</td>\n",
       "      <td>janeiro</td>\n",
       "    </tr>\n",
       "    <tr>\n",
       "      <th>237</th>\n",
       "      <td>Salvador</td>\n",
       "      <td>2019-01-03</td>\n",
       "      <td>38.06</td>\n",
       "      <td>1036</td>\n",
       "      <td>3</td>\n",
       "      <td>114.18</td>\n",
       "      <td>2019</td>\n",
       "      <td>1</td>\n",
       "      <td>3</td>\n",
       "      <td>janeiro</td>\n",
       "    </tr>\n",
       "    <tr>\n",
       "      <th>238</th>\n",
       "      <td>Salvador</td>\n",
       "      <td>2019-01-03</td>\n",
       "      <td>139.64</td>\n",
       "      <td>1035</td>\n",
       "      <td>1</td>\n",
       "      <td>139.64</td>\n",
       "      <td>2019</td>\n",
       "      <td>1</td>\n",
       "      <td>3</td>\n",
       "      <td>janeiro</td>\n",
       "    </tr>\n",
       "    <tr>\n",
       "      <th>239</th>\n",
       "      <td>Salvador</td>\n",
       "      <td>2019-01-03</td>\n",
       "      <td>161.41</td>\n",
       "      <td>1037</td>\n",
       "      <td>3</td>\n",
       "      <td>484.23</td>\n",
       "      <td>2019</td>\n",
       "      <td>1</td>\n",
       "      <td>3</td>\n",
       "      <td>janeiro</td>\n",
       "    </tr>\n",
       "  </tbody>\n",
       "</table>\n",
       "<p>894 rows × 10 columns</p>\n",
       "</div>"
      ],
      "text/plain": [
       "       Cidade       Data  Vendas LojaID  Qtde  Receita   Ano  Mês  Dia  \\\n",
       "0     Aracaju 2018-01-01  142.00   1520     1   142.00  2018    1    1   \n",
       "1     Aracaju 2018-01-01   14.21   1522     6    85.26  2018    1    1   \n",
       "2     Aracaju 2018-01-01   71.55   1520     1    71.55  2018    1    1   \n",
       "3     Aracaju 2018-01-01    3.01   1521     7    21.07  2018    1    1   \n",
       "4     Aracaju 2018-01-01   24.51   1522     8   196.08  2018    1    1   \n",
       "..        ...        ...     ...    ...   ...      ...   ...  ...  ...   \n",
       "235  Salvador 2019-01-03   41.84   1034     1    41.84  2019    1    3   \n",
       "236  Salvador 2019-01-03  126.29   1035     3   378.87  2019    1    3   \n",
       "237  Salvador 2019-01-03   38.06   1036     3   114.18  2019    1    3   \n",
       "238  Salvador 2019-01-03  139.64   1035     1   139.64  2019    1    3   \n",
       "239  Salvador 2019-01-03  161.41   1037     3   484.23  2019    1    3   \n",
       "\n",
       "    Mês_nome  \n",
       "0    janeiro  \n",
       "1    janeiro  \n",
       "2    janeiro  \n",
       "3    janeiro  \n",
       "4    janeiro  \n",
       "..       ...  \n",
       "235  janeiro  \n",
       "236  janeiro  \n",
       "237  janeiro  \n",
       "238  janeiro  \n",
       "239  janeiro  \n",
       "\n",
       "[894 rows x 10 columns]"
      ]
     },
     "metadata": {},
     "output_type": "display_data"
    }
   ],
   "source": [
    "display(df)"
   ]
  },
  {
   "cell_type": "code",
   "execution_count": 928,
   "id": "cdffcf2f",
   "metadata": {},
   "outputs": [
    {
     "data": {
      "text/plain": [
       "Mês_nome\n",
       "janeiro      60454.29\n",
       "marÃ§o       20546.23\n",
       "fevereiro    11785.43\n",
       "abril         4698.00\n",
       "outubro       2783.00\n",
       "maio          2506.00\n",
       "junho         2163.00\n",
       "setembro      1858.00\n",
       "julho         1380.00\n",
       "agosto         606.00\n",
       "novembro       563.00\n",
       "dezembro       272.00\n",
       "Name: Vendas, dtype: float64"
      ]
     },
     "execution_count": 928,
     "metadata": {},
     "output_type": "execute_result"
    }
   ],
   "source": [
    "# Vendas por mês\n",
    "vendasMes = df.groupby('Mês_nome')['Vendas'].sum().sort_values(ascending=False)\n",
    "vendasMes"
   ]
  },
  {
   "cell_type": "code",
   "execution_count": 929,
   "id": "a10420be",
   "metadata": {},
   "outputs": [],
   "source": [
    "# Alterando o rótulo\n",
    "df.loc[df['Mês_nome'] == 'marÃ§o','Mês_nome'] = 'Marco'"
   ]
  },
  {
   "cell_type": "code",
   "execution_count": 930,
   "id": "64b9e140",
   "metadata": {},
   "outputs": [
    {
     "data": {
      "text/plain": [
       "Mês_nome\n",
       "Janeiro      60454.29\n",
       "Marco        20546.23\n",
       "Fevereiro    11785.43\n",
       "Abril         4698.00\n",
       "Outubro       2783.00\n",
       "Maio          2506.00\n",
       "Junho         2163.00\n",
       "Setembro      1858.00\n",
       "Julho         1380.00\n",
       "Agosto         606.00\n",
       "Novembro       563.00\n",
       "Dezembro       272.00\n",
       "Name: Vendas, dtype: float64"
      ]
     },
     "execution_count": 930,
     "metadata": {},
     "output_type": "execute_result"
    }
   ],
   "source": [
    "# Transformando a coluna de mês com a primeira letra maiúscula\n",
    "df['Mês_nome'] = df['Mês_nome'].str.capitalize()\n",
    "df.groupby('Mês_nome')['Vendas'].sum().sort_values(ascending=False)"
   ]
  },
  {
   "cell_type": "code",
   "execution_count": 931,
   "id": "9fc690ed",
   "metadata": {},
   "outputs": [
    {
     "data": {
      "text/html": [
       "<div>\n",
       "<style scoped>\n",
       "    .dataframe tbody tr th:only-of-type {\n",
       "        vertical-align: middle;\n",
       "    }\n",
       "\n",
       "    .dataframe tbody tr th {\n",
       "        vertical-align: top;\n",
       "    }\n",
       "\n",
       "    .dataframe thead th {\n",
       "        text-align: right;\n",
       "    }\n",
       "</style>\n",
       "<table border=\"1\" class=\"dataframe\">\n",
       "  <thead>\n",
       "    <tr style=\"text-align: right;\">\n",
       "      <th></th>\n",
       "      <th>Cidade</th>\n",
       "      <th>Data</th>\n",
       "      <th>Vendas</th>\n",
       "      <th>LojaID</th>\n",
       "      <th>Qtde</th>\n",
       "      <th>Receita</th>\n",
       "      <th>Ano</th>\n",
       "      <th>Mês</th>\n",
       "      <th>Dia</th>\n",
       "      <th>Mês_nome</th>\n",
       "    </tr>\n",
       "  </thead>\n",
       "  <tbody>\n",
       "    <tr>\n",
       "      <th>43</th>\n",
       "      <td>Natal</td>\n",
       "      <td>2019-04-01</td>\n",
       "      <td>538.0</td>\n",
       "      <td>853</td>\n",
       "      <td>3</td>\n",
       "      <td>1614.0</td>\n",
       "      <td>2019</td>\n",
       "      <td>4</td>\n",
       "      <td>1</td>\n",
       "      <td>Abril</td>\n",
       "    </tr>\n",
       "    <tr>\n",
       "      <th>49</th>\n",
       "      <td>Natal</td>\n",
       "      <td>2019-04-01</td>\n",
       "      <td>831.0</td>\n",
       "      <td>852</td>\n",
       "      <td>2</td>\n",
       "      <td>1662.0</td>\n",
       "      <td>2019</td>\n",
       "      <td>4</td>\n",
       "      <td>1</td>\n",
       "      <td>Abril</td>\n",
       "    </tr>\n",
       "    <tr>\n",
       "      <th>65</th>\n",
       "      <td>Natal</td>\n",
       "      <td>2019-04-05</td>\n",
       "      <td>292.0</td>\n",
       "      <td>852</td>\n",
       "      <td>2</td>\n",
       "      <td>584.0</td>\n",
       "      <td>2019</td>\n",
       "      <td>4</td>\n",
       "      <td>5</td>\n",
       "      <td>Abril</td>\n",
       "    </tr>\n",
       "    <tr>\n",
       "      <th>77</th>\n",
       "      <td>Natal</td>\n",
       "      <td>2019-04-01</td>\n",
       "      <td>426.0</td>\n",
       "      <td>853</td>\n",
       "      <td>3</td>\n",
       "      <td>1278.0</td>\n",
       "      <td>2019</td>\n",
       "      <td>4</td>\n",
       "      <td>1</td>\n",
       "      <td>Abril</td>\n",
       "    </tr>\n",
       "    <tr>\n",
       "      <th>81</th>\n",
       "      <td>Natal</td>\n",
       "      <td>2019-04-02</td>\n",
       "      <td>564.0</td>\n",
       "      <td>854</td>\n",
       "      <td>2</td>\n",
       "      <td>1128.0</td>\n",
       "      <td>2019</td>\n",
       "      <td>4</td>\n",
       "      <td>2</td>\n",
       "      <td>Abril</td>\n",
       "    </tr>\n",
       "  </tbody>\n",
       "</table>\n",
       "</div>"
      ],
      "text/plain": [
       "   Cidade       Data  Vendas LojaID  Qtde  Receita   Ano  Mês  Dia Mês_nome\n",
       "43  Natal 2019-04-01   538.0    853     3   1614.0  2019    4    1    Abril\n",
       "49  Natal 2019-04-01   831.0    852     2   1662.0  2019    4    1    Abril\n",
       "65  Natal 2019-04-05   292.0    852     2    584.0  2019    4    5    Abril\n",
       "77  Natal 2019-04-01   426.0    853     3   1278.0  2019    4    1    Abril\n",
       "81  Natal 2019-04-02   564.0    854     2   1128.0  2019    4    2    Abril"
      ]
     },
     "metadata": {},
     "output_type": "display_data"
    },
    {
     "name": "stdout",
     "output_type": "stream",
     "text": [
      "Encontrado 5 registros.\n"
     ]
    }
   ],
   "source": [
    "# Filtrando as vendas de Abril de 2019\n",
    "Vendas_Abr_2019 = df.loc[(df['Mês_nome'] == 'Abril') & (df['Ano'] == 2019)]\n",
    "display(Vendas_Abr_2019)\n",
    "print('Encontrado {} registros.'.format(len(Vendas_Abr_2019)))"
   ]
  },
  {
   "cell_type": "markdown",
   "id": "25690381",
   "metadata": {},
   "source": [
    "### Visualização dos dados\n",
    "\n",
    "Nessa seção, apresentaremos os insights proveniente das análises anteriores."
   ]
  },
  {
   "cell_type": "code",
   "execution_count": 932,
   "id": "e0827ce9",
   "metadata": {},
   "outputs": [],
   "source": [
    "agruparMeses = df.groupby('Mês_nome').sum().reset_index().sort_values(by='Vendas',ascending=False)\n",
    "agruparMeses = agruparMeses[['Mês_nome','Vendas']]"
   ]
  },
  {
   "cell_type": "code",
   "execution_count": 933,
   "id": "b3d9a939",
   "metadata": {},
   "outputs": [
    {
     "data": {
      "text/plain": [
       "Mês_nome\n",
       "Janeiro      564\n",
       "Marco        121\n",
       "Fevereiro     39\n",
       "Abril          5\n",
       "dtype: int64"
      ]
     },
     "metadata": {},
     "output_type": "display_data"
    },
    {
     "data": {
      "text/plain": [
       "Mês_nome\n",
       "Janeiro      132\n",
       "Fevereiro      5\n",
       "Maio           5\n",
       "Julho          4\n",
       "Junho          4\n",
       "Outubro        4\n",
       "Abril          3\n",
       "Setembro       3\n",
       "Marco          2\n",
       "Agosto         1\n",
       "Dezembro       1\n",
       "Novembro       1\n",
       "dtype: int64"
      ]
     },
     "metadata": {},
     "output_type": "display_data"
    }
   ],
   "source": [
    "display(df[df['Ano'] == 2019].value_counts('Mês_nome'))\n",
    "display(df[df['Ano'] == 2018].value_counts('Mês_nome'))"
   ]
  },
  {
   "cell_type": "code",
   "execution_count": 934,
   "id": "1a4d2a59",
   "metadata": {},
   "outputs": [
    {
     "data": {
      "text/html": [
       "<div>\n",
       "<style scoped>\n",
       "    .dataframe tbody tr th:only-of-type {\n",
       "        vertical-align: middle;\n",
       "    }\n",
       "\n",
       "    .dataframe tbody tr th {\n",
       "        vertical-align: top;\n",
       "    }\n",
       "\n",
       "    .dataframe thead th {\n",
       "        text-align: right;\n",
       "    }\n",
       "</style>\n",
       "<table border=\"1\" class=\"dataframe\">\n",
       "  <thead>\n",
       "    <tr style=\"text-align: right;\">\n",
       "      <th></th>\n",
       "      <th>Vendas</th>\n",
       "      <th>Qtde</th>\n",
       "      <th>Receita</th>\n",
       "    </tr>\n",
       "    <tr>\n",
       "      <th>Ano</th>\n",
       "      <th></th>\n",
       "      <th></th>\n",
       "      <th></th>\n",
       "    </tr>\n",
       "  </thead>\n",
       "  <tbody>\n",
       "    <tr>\n",
       "      <th>2018</th>\n",
       "      <td>190.65</td>\n",
       "      <td>4.70</td>\n",
       "      <td>716.22</td>\n",
       "    </tr>\n",
       "    <tr>\n",
       "      <th>2019</th>\n",
       "      <td>107.21</td>\n",
       "      <td>2.94</td>\n",
       "      <td>313.10</td>\n",
       "    </tr>\n",
       "  </tbody>\n",
       "</table>\n",
       "</div>"
      ],
      "text/plain": [
       "      Vendas  Qtde  Receita\n",
       "Ano                        \n",
       "2018  190.65  4.70   716.22\n",
       "2019  107.21  2.94   313.10"
      ]
     },
     "metadata": {},
     "output_type": "display_data"
    }
   ],
   "source": [
    "# Valores médio por Ano\n",
    "MediaAno = round(df.groupby(df['Ano'])[['Vendas','Qtde','Receita']].mean(),ndigits=2)\n",
    "display(MediaAno)"
   ]
  },
  {
   "cell_type": "code",
   "execution_count": 935,
   "id": "9d795c49",
   "metadata": {},
   "outputs": [
    {
     "data": {
      "image/png": "[encoded data removed]",
      "text/plain": [
       "<Figure size 1080x360 with 3 Axes>"
      ]
     },
     "metadata": {},
     "output_type": "display_data"
    }
   ],
   "source": [
    "# Definindo o estilo dos gráficos\n",
    "plt.style.use('ggplot')\n",
    "\n",
    "# Subplotando em 3 colunas\n",
    "fig, axes = plt.subplots(1,3, figsize = (15,5))\n",
    "\n",
    "# Plotagem dos gráficos\n",
    "MediaAno['Vendas'].plot.pie(ax=axes[0], title='Média Vendas')\n",
    "MediaAno['Qtde'].plot.pie(ax=axes[1], title='Média Qtd Vendida')\n",
    "MediaAno['Receita'].plot.pie(ax=axes[2], title='Média Receita');"
   ]
  },
  {
   "cell_type": "markdown",
   "id": "8bdf1743",
   "metadata": {},
   "source": [
    "Nota-se que para a métrica de média das três variáveis analisadas (Vendas, Quantidade e Receita) o ano de 2018 prevalece as maiores métricas"
   ]
  },
  {
   "cell_type": "code",
   "execution_count": 936,
   "id": "630c54b4",
   "metadata": {},
   "outputs": [
    {
     "data": {
      "text/html": [
       "<div>\n",
       "<style scoped>\n",
       "    .dataframe tbody tr th:only-of-type {\n",
       "        vertical-align: middle;\n",
       "    }\n",
       "\n",
       "    .dataframe tbody tr th {\n",
       "        vertical-align: top;\n",
       "    }\n",
       "\n",
       "    .dataframe thead th {\n",
       "        text-align: right;\n",
       "    }\n",
       "</style>\n",
       "<table border=\"1\" class=\"dataframe\">\n",
       "  <thead>\n",
       "    <tr style=\"text-align: right;\">\n",
       "      <th></th>\n",
       "      <th>Vendas</th>\n",
       "      <th>Qtde</th>\n",
       "      <th>Receita</th>\n",
       "    </tr>\n",
       "    <tr>\n",
       "      <th>Ano</th>\n",
       "      <th></th>\n",
       "      <th></th>\n",
       "      <th></th>\n",
       "    </tr>\n",
       "  </thead>\n",
       "  <tbody>\n",
       "    <tr>\n",
       "      <th>2018</th>\n",
       "      <td>31456.67</td>\n",
       "      <td>775</td>\n",
       "      <td>118176.53</td>\n",
       "    </tr>\n",
       "    <tr>\n",
       "      <th>2019</th>\n",
       "      <td>78158.28</td>\n",
       "      <td>2141</td>\n",
       "      <td>228246.45</td>\n",
       "    </tr>\n",
       "  </tbody>\n",
       "</table>\n",
       "</div>"
      ],
      "text/plain": [
       "        Vendas  Qtde    Receita\n",
       "Ano                            \n",
       "2018  31456.67   775  118176.53\n",
       "2019  78158.28  2141  228246.45"
      ]
     },
     "metadata": {},
     "output_type": "display_data"
    }
   ],
   "source": [
    "# Soma médio por Ano\n",
    "SomaAno = round(df.groupby(df['Ano'])[['Vendas','Qtde','Receita']].sum(),ndigits=2)\n",
    "display(SomaAno)"
   ]
  },
  {
   "cell_type": "code",
   "execution_count": 937,
   "id": "d2a647b0",
   "metadata": {},
   "outputs": [
    {
     "data": {
      "image/png": "[encoded data removed]",
      "text/plain": [
       "<Figure size 1080x360 with 3 Axes>"
      ]
     },
     "metadata": {},
     "output_type": "display_data"
    }
   ],
   "source": [
    "# Definindo o estilo dos gráficos\n",
    "plt.style.use('seaborn')\n",
    "\n",
    "# Subplotando em 3 colunas\n",
    "fig, axes = plt.subplots(1,3, figsize = (15,5))\n",
    "\n",
    "# Plotagem dos gráficos\n",
    "SomaAno['Vendas'].plot.pie(ax=axes[0])\n",
    "SomaAno['Qtde'].plot.pie(ax=axes[1])\n",
    "SomaAno['Receita'].plot.pie(ax=axes[2]);"
   ]
  },
  {
   "cell_type": "markdown",
   "id": "a6f643cf",
   "metadata": {},
   "source": [
    "No entanto, para a métrica de soma das variáveis alvo, o ano de 2019 possui maior desempenho."
   ]
  },
  {
   "cell_type": "code",
   "execution_count": 938,
   "id": "787cf44f",
   "metadata": {},
   "outputs": [
    {
     "data": {
      "text/plain": [
       "LojaID  Ano \n",
       "852     2018    10427.00\n",
       "853     2018     6316.00\n",
       "854     2018     5738.00\n",
       "1522    2018     2480.26\n",
       "1520    2018     2452.26\n",
       "Name: Vendas, dtype: float64"
      ]
     },
     "metadata": {},
     "output_type": "display_data"
    },
    {
     "data": {
      "text/plain": [
       "LojaID  Ano \n",
       "1036    2019    10416.46\n",
       "854     2019     9622.00\n",
       "1035    2019     9511.02\n",
       "853     2019     8805.00\n",
       "1037    2019     7951.65\n",
       "Name: Vendas, dtype: float64"
      ]
     },
     "metadata": {},
     "output_type": "display_data"
    }
   ],
   "source": [
    "# Realizando um filtro do top 5 Lojas que mais venderam\n",
    "topId2019 = df.loc[df['Ano'] == 2019,].groupby(['LojaID','Ano'])['Vendas'].sum().sort_values(ascending=False).head(5)\n",
    "topId2018 = df.loc[df['Ano'] == 2018,].groupby(['LojaID','Ano'])['Vendas'].sum().sort_values(ascending=False).head(5)\n",
    "\n",
    "display(topId2018, topId2019)"
   ]
  },
  {
   "cell_type": "code",
   "execution_count": 939,
   "id": "2058ccab",
   "metadata": {},
   "outputs": [
    {
     "data": {
      "image/png": "[encoded data removed]",
      "text/plain": [
       "<Figure size 1080x360 with 2 Axes>"
      ]
     },
     "metadata": {},
     "output_type": "display_data"
    }
   ],
   "source": [
    "# Definindo o estilo dos gráficos\n",
    "plt.style.use('seaborn')\n",
    "\n",
    "# Subplotando em 3 colunas\n",
    "fig, axes = plt.subplots(1,2, figsize = (15,5))\n",
    "\n",
    "topId2018.plot.bar(ax=axes[0], title = 'Top ID Vendas 2018',legend=True)\n",
    "axes[0].set_xticklabels(axes[0].get_xticklabels(), rotation='horizontal')\n",
    "axes[0].set_title('Top ID Vendas 2018', \n",
    "                  fontsize=16,pad=10)\n",
    "axes[0].set_xlabel('Lojas ID', labelpad=10)\n",
    "axes[0].set_ylabel('Qtd Vendas',labelpad=5)\n",
    "\n",
    "\n",
    "topId2019.plot.bar(ax=axes[1], title = 'Top ID Vendas 2019',legend=True)\n",
    "axes[1].set_xticklabels(axes[1].get_xticklabels(), rotation='horizontal');\n",
    "axes[1].set_title('Top ID Vendas 2019', \n",
    "                  fontsize=16, pad=10)\n",
    "axes[1].set_xlabel('Lojas ID',labelpad=10)\n",
    "axes[1].set_ylabel('Qtd Vendas',labelpad=5);"
   ]
  },
  {
   "cell_type": "code",
   "execution_count": 940,
   "id": "057eafa7",
   "metadata": {},
   "outputs": [
    {
     "data": {
      "text/plain": [
       "Cidade    Ano \n",
       "Natal     2018    71750.00\n",
       "Aracaju   2018    46276.29\n",
       "Salvador  2018      150.24\n",
       "Name: Receita, dtype: float64"
      ]
     },
     "metadata": {},
     "output_type": "display_data"
    },
    {
     "data": {
      "text/plain": [
       "Cidade     Ano \n",
       "Natal      2019    95477.52\n",
       "Recife     2019    51936.51\n",
       "Salvador   2019    40446.49\n",
       "Fortaleza  2019    37913.97\n",
       "Aracaju    2019     2471.96\n",
       "Name: Receita, dtype: float64"
      ]
     },
     "metadata": {},
     "output_type": "display_data"
    }
   ],
   "source": [
    "# Realizando um filtro do top 5 cidades com maiores receitas\n",
    "topCidades2019 = df.loc[df['Ano'] == 2019,].groupby(['Cidade','Ano'])['Receita'].sum().sort_values(ascending=False).head(5)\n",
    "topCidades2018 = df.loc[df['Ano'] == 2018,].groupby(['Cidade','Ano'])['Receita'].sum().sort_values(ascending=False).head(5)\n",
    "\n",
    "display(topCidades2018, topCidades2019)"
   ]
  },
  {
   "cell_type": "code",
   "execution_count": 941,
   "id": "7d3e0180",
   "metadata": {},
   "outputs": [
    {
     "data": {
      "image/png": "[encoded data removed]",
      "text/plain": [
       "<Figure size 1080x360 with 2 Axes>"
      ]
     },
     "metadata": {},
     "output_type": "display_data"
    }
   ],
   "source": [
    "# Definindo o estilo dos gráficos\n",
    "plt.style.use('ggplot')\n",
    "\n",
    "# Subplotando em 3 colunas\n",
    "fig, axes = plt.subplots(1,2, figsize = (15,5))\n",
    "\n",
    "topCidades2018.plot.bar(ax=axes[0], title = 'Top Cidades Receita 2018',legend=True)\n",
    "axes[0].set_xticklabels(axes[0].get_xticklabels(), rotation='horizontal')\n",
    "axes[0].set_title('Top Cidade Receita 2018', \n",
    "                  fontsize=16,pad=10)\n",
    "axes[0].set_xlabel('Cidade', labelpad=10)\n",
    "axes[0].set_ylabel('Receita',labelpad=5)\n",
    "\n",
    "\n",
    "topCidades2019.plot.bar(ax=axes[1], title = 'Top Cidades Receita 2019',legend=True)\n",
    "axes[1].set_xticklabels(axes[1].get_xticklabels(), rotation='horizontal');\n",
    "axes[1].set_title('Top Cidade Receita 2019', \n",
    "                  fontsize=16, pad=10)\n",
    "axes[1].set_xlabel('Cidade',labelpad=10)\n",
    "axes[1].set_ylabel('Receita',labelpad=5);"
   ]
  },
  {
   "cell_type": "code",
   "execution_count": 942,
   "id": "be415353",
   "metadata": {},
   "outputs": [
    {
     "data": {
      "text/plain": [
       "Mês_nome\n",
       "Janeiro      13172.67\n",
       "Fevereiro     2881.00\n",
       "Outubro       2783.00\n",
       "Maio          2506.00\n",
       "Junho         2163.00\n",
       "Name: Vendas, dtype: float64"
      ]
     },
     "metadata": {},
     "output_type": "display_data"
    },
    {
     "data": {
      "text/plain": [
       "Mês_nome\n",
       "Janeiro      47281.62\n",
       "Marco        19321.23\n",
       "Fevereiro     8904.43\n",
       "Abril         2651.00\n",
       "Name: Vendas, dtype: float64"
      ]
     },
     "metadata": {},
     "output_type": "display_data"
    }
   ],
   "source": [
    "# Realizando um filtro do top 5 meses com maiores vendas\n",
    "topMes2018 = df.loc[df['Ano'] == 2018,].groupby('Mês_nome')['Vendas'].sum().sort_values(ascending=False).head(5)\n",
    "topMes2019 = df.loc[df['Ano'] == 2019,].groupby('Mês_nome')['Vendas'].sum().sort_values(ascending=False).head(5)\n",
    "\n",
    "display(topMes2018, topMes2019)"
   ]
  },
  {
   "cell_type": "code",
   "execution_count": 943,
   "id": "85ae9566",
   "metadata": {},
   "outputs": [
    {
     "data": {
      "image/png": "[encoded data removed]",
      "text/plain": [
       "<Figure size 1080x360 with 2 Axes>"
      ]
     },
     "metadata": {},
     "output_type": "display_data"
    }
   ],
   "source": [
    "# Definindo o estilo dos gráficos\n",
    "plt.style.use('ggplot')\n",
    "\n",
    "# Subplotando em 3 colunas\n",
    "fig, axes = plt.subplots(1,2, figsize = (15,5))\n",
    "\n",
    "topMes2018.plot.line(ax=axes[0], title = 'Top Mês Vendas 2018',legend=True)\n",
    "axes[0].set_xticklabels(axes[0].get_xticklabels(), rotation='horizontal')\n",
    "axes[0].set_title('Top Mês Vendas 2018', \n",
    "                  fontsize=16,pad=10)\n",
    "axes[0].set_xlabel('Mês', labelpad=10)\n",
    "axes[0].set_ylabel('Vendas',labelpad=5)\n",
    "\n",
    "\n",
    "topMes2019.plot.line(ax=axes[1], title = 'Top Mês Vendas 2019',legend=True)\n",
    "axes[1].set_xticklabels(axes[1].get_xticklabels(), rotation='horizontal');\n",
    "axes[1].set_title('Top Mês Vendas 2019', \n",
    "                  fontsize=16, pad=10)\n",
    "axes[1].set_xlabel('Mês',labelpad=10)\n",
    "axes[1].set_ylabel('Vendas',labelpad=5);"
   ]
  }
 ],
 "metadata": {
  "kernelspec": {
   "display_name": "Python 3 (ipykernel)",
   "language": "python",
   "name": "python3"
  },
  "language_info": {
   "codemirror_mode": {
    "name": "ipython",
    "version": 3
   },
   "file_extension": ".py",
   "mimetype": "text/x-python",
   "name": "python",
   "nbconvert_exporter": "python",
   "pygments_lexer": "ipython3",
   "version": "3.9.12"
  }
 },
 "nbformat": 4,
 "nbformat_minor": 5
}
